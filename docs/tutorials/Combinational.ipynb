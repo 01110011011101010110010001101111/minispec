{
 "cells": [
  {
   "cell_type": "markdown",
   "metadata": {},
   "source": [
    "# Combinational Logic in Minispec\n",
    "\n",
    "Combinational circuits, also known as Boolean circuits, are a basic building block of digital logic. A combinational circuit has digital inputs and outputs; each output is a Boolean function of its current inputs (i.e., the circuit has no memory or state); and each output is  guaranteed to reach a stable digital value after a bounded *propagation delay* from the time at which the inputs reach valid digital values.\n",
    "\n",
    "In lecture, we have seen how to describe the behavior of combinational circuits using Boolean formulas or truth tables, and how to implement these circuits using gates.\n",
    "\n",
    "In this tutorial, you will learn how to design combinational circuits in Minispec. We will cover the following topics:\n",
    "1. The Bool type and Boolean operations\n",
    "2. Functions\n",
    "3. Manual synthesis of functions into combinational circuits\n",
    "4. The Bit#(n) type and Bit operations\n",
    "5. Types and type inference\n",
    "6. Conditional expressions\n",
    "7. Automatic synthesis of functions into combinational circuits\n",
    "8. Parametric functions and Integers\n",
    "9. User-defined types\n",
    "10. Higher-level constructs: if, case, and for statements\n",
    "11. Advanced features: ?, assertions\n",
    "\n",
    "These topics build on each other and present increasingly advanced language features. In particular, topics 1 and 2 suffice to build any combinational circuit; every other feature is a convenience.\n",
    "\n",
    "This tutorial uses interactive examples. You can execute each code snippet (cell) by pressing *Shift+Enter*. The executable examples consist of Boolean functions and one of two special commands, called *magics*: `%%eval` to evaluate a function and `%%synth` to synthesize it into a circuit. (These magics are not part of the Minispec language, but separate commands integrated in Jupyter; see Section 13 of the Minispec reference for more details)."
   ]
  },
  {
   "cell_type": "markdown",
   "metadata": {},
   "source": [
    "## 1. The Bool type and Boolean operations\n",
    "\n",
    "Values of type `Bool` can take one of two values, `True` or `False`. `Bool` values support the three basic Boolean algebra operations:\n",
    "- `!`: Boolean NOT\n",
    "- `&&`: Boolean AND\n",
    "- `||`: Boolean OR\n",
    "\n",
    "For example,\n",
    "```minispec\n",
    "Bool a = True;\n",
    "Bool b = False;\n",
    "\n",
    "Bool x = !a;      // False since a == True\n",
    "Bool y = a && b;  // False since b == False\n",
    "Bool z = a || b;  // True since a == True\n",
    "```\n",
    "\n",
    "`Bool` values also support equality operations:\n",
    "- `==`: Equals\n",
    "- `!=`: Not equals\n",
    "\n",
    "For example,\n",
    "```minispec\n",
    "Bool a = True;\n",
    "Bool b = False;\n",
    "\n",
    "Bool e = a == b;  // False\n",
    "Bool n = a != b;  // True\n",
    "```\n",
    "\n",
    "Note that, for Boolean values, `==` is equivalent to Boolean XOR (and `!=` is Boolean XNOR)."
   ]
  },
  {
   "cell_type": "markdown",
   "metadata": {},
   "source": [
    "## 2. Functions\n",
    "\n",
    "In Minispec, *functions* specify combinational circuits. Each function produces an *output result* that depends only on the values of its *input arguments*.\n",
    "\n",
    "**Definition:** Functions can be defined using the following syntax:\n",
    "```minispec\n",
    "function RetType fname(Type1 arg1, ..., TypeN argN);\n",
    "  stmt1\n",
    "  ...\n",
    "  stmtM\n",
    "endfunction```\n",
    "where ``fname`` is the function’s name; ``RetType`` is the type of its return value; ``arg_i``\n",
    "are the names of its input arguments, with types ``Type_i`` ; and ``stmt_i`` are statements.\n",
    "\n",
    "Functions must return a result by using **return statements**. For example, the function below shows a function containing a single return statement.\n"
   ]
  },
  {
   "cell_type": "code",
   "execution_count": null,
   "metadata": {},
   "outputs": [],
   "source": [
    "function Bool and2(Bool a, Bool b);\n",
    "    return a && b;\n",
    "endfunction"
   ]
  },
  {
   "cell_type": "markdown",
   "metadata": {},
   "source": [
    "You can evaluate a function with the `%%eval` magic. For example,"
   ]
  },
  {
   "cell_type": "code",
   "execution_count": null,
   "metadata": {},
   "outputs": [],
   "source": [
    "%%eval and2(False, True)\n",
    "%%eval and2(True, True)"
   ]
  },
  {
   "cell_type": "markdown",
   "metadata": {},
   "source": [
    "More complex functions can use multiple statements. For example, the `majority` function below returns `True` iff at least two out of its three inputs are `True`. This function uses three assignment statements before its return statement."
   ]
  },
  {
   "cell_type": "code",
   "execution_count": null,
   "metadata": {},
   "outputs": [],
   "source": [
    "function Bool majority(Bool a, Bool b, Bool c);\n",
    "    Bool ab = a && b;\n",
    "    Bool ac = a && c;\n",
    "    Bool bc = b && c;\n",
    "    return ab || ac || bc;\n",
    "endfunction\n",
    "\n",
    "%%eval majority(True, False, False)\n",
    "%%eval majority(False, True, True)"
   ]
  },
  {
   "cell_type": "markdown",
   "metadata": {},
   "source": [
    "Functions can invoke other functions:"
   ]
  },
  {
   "cell_type": "code",
   "execution_count": null,
   "metadata": {},
   "outputs": [],
   "source": [
    "function Bool and4(Bool a, Bool b, Bool c, Bool d);\n",
    "    Bool ab = and2(a, b);\n",
    "    Bool cd = and2(c, d);\n",
    "    return and2(ab, cd);\n",
    "endfunction\n",
    "\n",
    "%%eval and4(True, True, True, True)\n",
    "%%eval and4(True, False, True, True)"
   ]
  },
  {
   "cell_type": "markdown",
   "metadata": {},
   "source": [
    "However, a function may not invoke itself, i.e., **recursion is not allowed**.\n",
    "\n",
    "Because functions are often short, Minispec has a **shorthand syntax** to declare single-statement functions more succinctly. For example, the `and4` implementation below is equivalent to the one above. Instead of a `return` statement followed by `endfunction`, the expression that computes the output value follows the `=` sign."
   ]
  },
  {
   "cell_type": "code",
   "execution_count": null,
   "metadata": {},
   "outputs": [],
   "source": [
    "function Bool and4(Bool a, Bool b, Bool c, Bool d) = a && b && c && d;"
   ]
  },
  {
   "cell_type": "markdown",
   "metadata": {},
   "source": [
    "## 3. Manual synthesis of functions into combinational circuits\n",
    "\n",
    "Minispec functions can *always* be synthesized to combinational circuits. This is because functions have two key properties:\n",
    "1. *Pure*: Functions compute the output based only on the values of its input arguments. They cannot use or alter any state or variables outside the function.\n",
    "2. *Acyclic*: Functions have no cycles, i.e., they cannot \"jump back\" to a prior point of execution. They are thus always guaranteed to terminate in a bounded number of steps, and that number is independent of the particular values of the input arguments. This is why recursion is not allowed.\n",
    "\n",
    "In practice, Minispec functions are synthesized by composing smaller building blocks. This\n",
    "exploits that combinational circuits compose easily: a circuit composed of multiple combinational devices connected with wires\n",
    "is also combinational if each input of the constituent devices is tied to a single output or a constant value, and if the network is acyclic, i.e., it has no directed cycles (which may create feedback loops).\n",
    "\n",
    "\n",
    "Since Minispec functions are acyclic, one can synthesize a function by synthesizing a\n",
    "each syntax element (expression, statement, etc.) and connecting them. \n",
    "Though the details of synthesis depend on the compiler and tools used, it is useful to roughly understand how syntax elements are translated and composed. With what we have seen so far, we need only three rules:\n",
    "1. Each complex expression is broken down into a tree of basic operations (e.g., operators or function calls), then each operation is synthesized, and finally their inputs and outputs are wired together in the same tree fashion.\n",
    "2. All operators (e.g., ``&&``, ``||``, etc.) can be implemented using combinational circuits. Each operator is synthesized as a separate circuit.\n",
    "3. Functions are **inlined**: each function call instantiates a separate circuit implementing the function, which is then synthesized (since there’s no recursion, inlining functions always terminates).\n",
    "\n",
    "The last rule is particularly important to keep in mind, because it is completely different from how software procedures are commonly implemented.\n",
    "\n",
    "Using these rules, we can manually synthesize all the functions we have seen so far. For example, the figure below shows the manual synthesis of the ``and2`` and ``and4`` circuits.\n",
    "\n",
    "<div>\n",
    "<img src=\"img/manual_synth.png\" width=\"50%\"/>\n",
    "</div>\n",
    "\n",
    "\n",
    "We will introduce more language elements later, and explain how they are synthesized then.\n",
    "For a full description, see Section 8.1 of the Minispec reference."
   ]
  },
  {
   "cell_type": "markdown",
   "metadata": {},
   "source": [
    "## 4. The Bit#(n) type and operations\n",
    "\n",
    "While `Bool` is technically the only type we need to write combinational circuits, working with many single-bit values gets tedious quickly. For example, if we wanted to code a function that operated on a 32-bit number, we'd need to pass 32 `Bool` arguments! Even worse, since each function can produce only one output result, implementing circuits with several output wires would require a separate function per output wire.\n",
    "\n",
    "To address this problem, Minispec provides more complex types that encapsulate a collection of bits. The most basic of these is `Bit#(n)`, which encodes an ``n``-bit value (``n`` must be a non-negative number). Most types (all except `Integer`, which we will see later) are represented in hardware using a fixed number of bits. \n",
    "\n",
    "\n",
    "The first order of business is how to assign fixed values (e.g., 0, 1, 42, etc.) to `Bit#(n)` variables. This is the role of number literals.\n",
    "\n",
    "**Number literals:** \n",
    "Number literals encode numeric values. They can be **sized** or **unsized**. Sized literals\n",
    "encode their bit-width, i.e., the number of bits they take. By contrast, unsized literals\n",
    "have no explicit bit-width. Literals can be specified in decimal, hexadecimal, and\n",
    "binary bases.\n",
    "\n",
    "A sized number literal always consists of three elements:\n",
    "1. Bit-width, written as a decimal number.\n",
    "2. Base: ’d for decimal, ’h for hexadecimal, and ’b for binary.\n",
    "3. Value, written using digits in the specified base (0–9 for decimal, 0–9 and a–f for hex, and 0 or 1 for binary).\n",
    "\n",
    "An unsized number literal has no bit-width, and consists of an optional base and\n",
    "value. If the base is not given, the value is interpreted as decimal.\n",
    "To make long values more readable, number literals allow using underscore characters\n",
    "(\\_) to separate value digits.\n",
    "\n",
    "The examples below showcase these rules:\n",
    "```minispec\n",
    "// Sized number literals\n",
    "// 4-bit decimal value 10\n",
    "4’d10   // in decimal\n",
    "4’b1010 // in binary\n",
    "4’ha    // in hex\n",
    "4’hA    // hex digits are case-insensitive\n",
    "// 8-bit decimal value 10\n",
    "8’b00001010\n",
    "8’b1010\n",
    "8’h0a\n",
    "\n",
    "// Unsized number literals\n",
    "’d10    // decimal 10\n",
    "10      // also decimal 10\n",
    "’b1010\n",
    "’habcdef\n",
    "\n",
    "// Underscores (_) can separate digits\n",
    "16’b1010_0110_1101_0010\n",
    "```\n",
    "Sized and unsized literals can both be used in expressions involving Bit#(n) variables. The examples below illustrate their pros and cons. Sized literals enforce their\n",
    "bit-width, and will cause a compile-time error on a width mismatch. By contrast,\n",
    "unsized literals have their bit-width deduced by the compiler. This makes code more\n",
    "succinct and can help express long values, but the compiler won’t catch mistakes that\n",
    "stem from wrong assumptions about bit-widths.\n",
    "\n",
    "```minispec\n",
    "Bit#(4) x = 4'd10;  // OK, as both x and the literal are 4 bits\n",
    "Bit#(5) y = 4'd10;  // Error due to mismatched bit-widths, y is 5 bits\n",
    "Bit#(4) z = 10;     // OK, 10 inferred to be 4 bits\n",
    "Bit#(4) w = 1000;   // Error, decimal 1000 inferred to be 4 bits but doesn't fit in 4 bits\n",
    "```\n",
    "\n",
    "**Bitwise logical operations:**\n",
    "`Bit#(n)` supports bitwise inversion/NOT (`~`), AND (`&`), OR (`|`), XOR (`^`), and XNOR(`~^` or `^~`).\n",
    "Bitwise logical operations take `Bit#(n)` inputs and produce a `Bit#(n)` output, where the operations apply to each bit of the inputs. For example,\n",
    "```minispec\n",
    "Bit#(4) a = 4'b0011;\n",
    "Bit#(4) b = 4'b0101;\n",
    "\n",
    "Bit#(4) x = ~a;    // 4'b1100\n",
    "Bit#(4) y = a & b; // 4'b0001\n",
    "Bit#(4) z = a ^ b; // 4'b0110\n",
    "```\n",
    "\n",
    "**Bit selection:** Given a `Bit#(n)` variable `x`, `x[i]` selects the $i^{th}$ bit of `x`. `x[i]` has type `Bit#(1)`.\n",
    "\n",
    "*Bits are enumerated right-to-left*, i.e., starting from the least-significant bit.\n",
    "For example, given `Bit#(4) x = 4’b1010`, then `x[0] = 0` (the least-significant or rightmost bit), `x[1] = 1`, `x[2] = 0`, and `x[3] = 1` (the most-significant or leftmost bit).\n",
    "This is consistent with how digits are always enumerated in a number\n",
    "(according to significance, so `x`'s value is $\\sum_{i=0}^{n-1}2^i x[i]$),\n",
    "but it is different from how vectors are indexed.\n",
    "\n",
    "Given a `Bit#(n)` variable `x`, `x[i:j]`, with i ≥ j, selects the range of bits of `x`\n",
    "starting at `x[i]` and ending at `x[j]`, both inclusive.\n",
    "\n",
    "**Example 1: Parity circuit.** The *parity* of an n-bit value is 0 if the value has an even number of ones, or 1 if the value has an odd number of ones. Parity is useful way to detect errors: if a single bit flips in a value, its parity changes, so systems often store and transmit the parity of all values and check them to see whether a bit has flipped. Moreover, computing the parity is very simple: it's the XOR of all the bits. \n",
    "\n",
    "The `parity8` function below computes the parity of an 8-bit argument. `parity8` is built by combining smaller circuits (functions) that compute the parity of 4-bit and 2-bit arguments:"
   ]
  },
  {
   "cell_type": "code",
   "execution_count": null,
   "metadata": {},
   "outputs": [],
   "source": [
    "function Bit#(1) parity2(Bit#(2) x) = x[1] ^ x[0];\n",
    "function Bit#(1) parity4(Bit#(4) x) = parity2(x[3:2]) ^ parity2(x[1:0]);\n",
    "function Bit#(1) parity8(Bit#(8) x) = parity4(x[7:4]) ^ parity4(x[3:0]);\n",
    "%%eval parity8(8'b0100_0110)\n",
    "%%eval parity8(8'b0101_0110)"
   ]
  },
  {
   "cell_type": "markdown",
   "metadata": {},
   "source": [
    "The example above uses *function composition* to build `parity8` out of many simple functions. We recommend you structure your design into collections of simple and reusable functions.\n",
    "\n",
    "That said, the example above does not use the fact that XOR (`^`) is a bitwise operator. To show this, here is an alternative implementation that does so, by XOR-ing the upper and lower parts of the value until reducing the value to a `Bit#(1)`:"
   ]
  },
  {
   "cell_type": "code",
   "execution_count": null,
   "metadata": {},
   "outputs": [],
   "source": [
    "function Bit#(1) parity8_alt(Bit#(8) x);\n",
    "    Bit#(4) r4 =  x[7:4] ^  x[3:0];\n",
    "    Bit#(2) r2 = r4[3:2] ^ r4[1:0];\n",
    "    Bit#(1) r1 =   r2[1] ^   r2[0];\n",
    "    return r1;\n",
    "endfunction\n",
    "%%eval parity8_alt(8'b0100_0110)\n",
    "%%eval parity8_alt(8'b0101_0110)"
   ]
  },
  {
   "cell_type": "markdown",
   "metadata": {},
   "source": [
    "**Bit concatenation:** Given two or more `Bit#()` values `x1 , ..., xk` , `{x1 , ..., xk}`\n",
    "concatenates these values. The result has type `Bit#(s)`, where `s` is the sum of the\n",
    "bit-widths of all concatenated elements. For example:\n",
    "```minispec\n",
    "Bit#(2) a = 2’b11;\n",
    "Bit#(4) b = 4’b1001;\n",
    "Bit#(3) c = 3’b010;\n",
    "Bit#(9) x = {a, b, c}; // 9’b111001010\n",
    "Bit#(5) y = {a, c};    // 5’b11010\n",
    "Bit#(3) z = {1’b1, a}; // 3’b111\n",
    "```\n",
    "\n",
    "**Example 3: Ripple-carry adder.** A ripple-carry adder is a simple (but slow) adder that implements the elementary addition method (i.e., it adds numbers the way we learned in grade school).\n",
    "\n",
    "An n-bit ripple-carry adder takes two n-bit inputs and a 1-bit *carry-in* input and returns an (n+1)-bit output with the sum of all inputs. The most-significant bit of the output is called the *carry-out* bit. This allows constructing a ripple-carry adder as a concatentation of 1-bit adders, also called *full adders*, where the carry-out of the $i^{th}$ adder becomes the carry-in of the $(i+1)^{th}$ adder.\n",
    "\n",
    "The `rca4` function below implements a 4-bit ripple-carry adder using bit selection, concatenation, and bitwise logical operators:"
   ]
  },
  {
   "cell_type": "code",
   "execution_count": null,
   "metadata": {},
   "outputs": [],
   "source": [
    "function Bit#(2) fullAdder(Bit#(1) a, Bit#(1) b, Bit#(1) carryIn);\n",
    "    Bit#(1) sum = a ^ b ^ carryIn;\n",
    "    Bit#(1) carryOut = (a & b) | (carryIn & a ) | (carryIn & b);  // majority (at least two 1s)\n",
    "    return {carryOut, sum};\n",
    "endfunction\n",
    "\n",
    "function Bit#(3) rca2(Bit#(2) a, Bit#(2) b, Bit#(1) carryIn);\n",
    "    Bit#(2) lower = fullAdder(a[0], b[0], carryIn);\n",
    "    Bit#(2) upper = fullAdder(a[1], b[1], lower[1]);  // carry-out of previous full adder used as carry-in\n",
    "    return {upper, lower[0]};\n",
    "endfunction\n",
    "\n",
    "function Bit#(5) rca4(Bit#(4) a, Bit#(4) b, Bit#(1) carryIn);\n",
    "    Bit#(3) lower = rca2(a[1:0], b[1:0], carryIn);\n",
    "    Bit#(3) upper = rca2(a[3:2], b[3:2], lower[2]);\n",
    "    return {upper, lower[1:0]};\n",
    "endfunction\n",
    "\n",
    "// Expected 5+3+1 = 9\n",
    "%%eval rca4(5,3,1)"
   ]
  },
  {
   "cell_type": "markdown",
   "metadata": {},
   "source": [
    "**Other operators:** `Bit#(n)` supports more complex built-in operators,\n",
    "including arithmetic operators (`+`, `-`, `*`, ...) and relational operators (`>`, `>=`, etc.),\n",
    "These operations treat `Bit#(n)` values as *unsigned integers*.\n",
    "\n",
    "Though complex operators are convenient in large designs (they express a lot of logic!),\n",
    "they can obscure implementation details.\n",
    "For this reason, we discourage their use when first learning Minispec,\n",
    "and their use is not permitted in the first few labs on digital design.\n",
    "We will lift this restriction later.\n",
    "\n",
    "To see these operators and further details on the ones we have introduced, see Section 6.1 in the Minispec reference.\n",
    "\n",
    "**Example 3: Majority, again (or why we'll pass on complex operators for now).**\n",
    "The function below implements the `majority` function we saw above, but using a single `Bit#(3)` argument instead of three `Bool` arguments, and a `Bit#(1)` output instead of a `Bool` output."
   ]
  },
  {
   "cell_type": "code",
   "execution_count": null,
   "metadata": {},
   "outputs": [],
   "source": [
    "function Bit#(1) majority(Bit#(3) x) = (x[0] & x[1]) | (x[0] & x[2]) | (x[1] & x[2]);\n",
    "%%eval majority(3'b101)\n",
    "%%eval majority(3'b001)"
   ]
  },
  {
   "cell_type": "markdown",
   "metadata": {},
   "source": [
    "From looking at the operators used, it is pretty clear that this function can be implemented using three 2-input AND gates and two 2-input OR gates.\n",
    "\n",
    "Now, consider an alternative implementation that uses complex operators:"
   ]
  },
  {
   "cell_type": "code",
   "execution_count": null,
   "metadata": {},
   "outputs": [],
   "source": [
    "function Bit#(1) majority_alt(Bit#(3) x);\n",
    "    Bit#(2) sum = {1'b0, x[0]} + {1'b0, x[1]} + {1'b0, x[2]};\n",
    "    return (sum >= 2)? 1'b1 : 1'b0;\n",
    "endfunction\n",
    "%%eval majority_alt(3'b101)\n",
    "%%eval majority_alt(3'b001)"
   ]
  },
  {
   "cell_type": "markdown",
   "metadata": {},
   "source": [
    "This implementation is arguably a more direct description of the majority function: it sums the bits of the input and returns 1 if over half of them are 1. Moreover, this implementation is **much** easier to extend to more bits (e.g., to compute the majority of a Bit#(7) input instead of a Bit#(3), we could add the 7 bits and compare with 4). But it's harder to see how this function would be implemented: synthesizing this function by hand requires knowing how addition and comparisons are implemented. (It also requires knowing more syntax.)\n",
    "\n",
    "Thus, until we see the underlying implementation of more complex operators in labs, we will refrain from using these operators."
   ]
  },
  {
   "cell_type": "markdown",
   "metadata": {},
   "source": [
    "## 5. Types and type inference\n",
    "\n",
    "Minispec is a *strongly typed language* with *static type checking*: every variable and expression has a type, and that type must be known statically, i.e., at compile time. Variables must be assigned values with compatible types.\n",
    "\n",
    "We have already seen two types, `Bool` and `Bit#(n)`, and have informally seen strong typing and static type checking at work. For instance, so far we have specified the type of every variable (e.g., `Bool x = True;`), and seen how every variable has a fixed type: whereas in languages like Python one can write `x = True` and later `x = 2`, in Minispec you cannot have the same variable take `Bool` and `Bit#(n)` values.\n",
    "\n",
    "Minispec has other built-in types and the ability to define your own types. We will introduce these concepts later.\n",
    "\n",
    "**Type conversions are explicit:**\n",
    "Unlike in some languages, in Minispec almost all conversions between values of different types are explicit. For example, it is illegal to assign a `Bool` value to a `Bit#(1)` variable (or vice versa), even though both take one bit to represent. Similarly, it is illegal to assign `Bit#(4)` value to a `Bit#(8)` variable, because they have a different number of bits and *implicit bit-width extensions never happen*. This makes code more verbose but reduces mistakes, as shown below:\n",
    "```minispec\n",
    "Bool b = True;\n",
    "Bit#(1) x = b;         // Error, cannot convert from Bool to Bit#(1)\n",
    "Bit#(1) y = b? 1 : 0;  // OK, uses ternary operator to convert explicitly\n",
    "\n",
    "Bit#(4) i = 12;\n",
    "Bit#(8) j = i;         // Error, mismatched bit-widths 4 and 8\n",
    "Bit#(8) k = {0, i};    // OK, uses concatenation to zero-extend i\n",
    "```\n",
    "The one exception to this rule is the `Integer` type, which we will see in Section 8.\n",
    "`Integer` values work just like unsized literals and can be assigned to `Bit#(n)` variables without explicit conversion. For example:\n",
    "```minispec\n",
    "Integer n = 3 * 4; // n=12\n",
    "Bit#(8) x = n;     // OK\n",
    "Bit#(n) y = n * n; // OK, Bit#(12) y = 144;\n",
    "```\n",
    "\n",
    "**Type inference:**  Minispec allows omitting a variable’s type by using the `let`\n",
    "keyword. The compiler will infer the variable’s type from the expression assigned to the\n",
    "variable. For example:\n",
    "```minispec\n",
    "Bit#(4) x = 1;\n",
    "let y = x;       // Bit#(4)\n",
    "let z = {x, x};  // Bit#(8)\n",
    "let w = 2’b11;   // Bit#(2)\n",
    "let n = 42;      // Integer\n",
    "```\n",
    "\n",
    "**Truncation and extension of Bit#(n) values:** Since Minispec does not implicitle extend or truncate values, it provides three built-in functions to do length conversions:\n",
    "* `truncate` truncates the most-significant bits of its argument to match the bit-width of a narrower destination.\n",
    "* `zeroExtend` adds zeros to the left of the argument to match the bit-width of a wider destination.\n",
    "* `signExtend` extends the argument by replicating its most significant bit to match the bit-width of a wider destination.\n",
    "For example:\n",
    "```minispec\n",
    "Bit#(4) a = 4’b1001;\n",
    "Bit#(2) x = truncate(a);    // 2’b01\n",
    "Bit#(6) y = zeroExtend(a);  // 6’b001001\n",
    "Bit#(6) z = signExtend(a);  // 6’b111001\n",
    "Bit#(6) w = signExtend(x);  // 6’b000001\n",
    "```\n",
    "\n",
    "If a `Bit#(n)` value encodes an unsigned integer, `zeroExtend` preserves its value; if the variable encodes a signed integer in two's complement representation, `signExtend` preserves its value."
   ]
  },
  {
   "cell_type": "markdown",
   "metadata": {},
   "source": [
    "## 6. Conditional expressions\n",
    "\n",
    "Conditional expressions allow selecting between two or more values depending on another value.\n",
    "\n",
    "**Conditional operator:** The conditional or ternary operator selects between two values\n",
    "based on a `Bool` value. Its syntax is:\n",
    "```\n",
    "condExpr? trueExpr : falseExpr\n",
    "```\n",
    "where `condExpr` is a `Bool` expression, and `trueExpr` and `falseExpr` are expressions of the same type. If condExpr is True,\n",
    "the expression evaluates to `trueExpr`; otherwise, it evaluates to `falseExpr`.\n",
    "\n",
    "Each conditional operator is synthesized as a **multiplexer** or mux, specifically a 2-to-1 mux.\n",
    "The code below implements a multiplexer of `Bit#(4)` values:"
   ]
  },
  {
   "cell_type": "code",
   "execution_count": null,
   "metadata": {},
   "outputs": [],
   "source": [
    "function Bit#(4) mux4(Bit#(4) a, Bit#(4) b, Bool s) = s? a : b;\n",
    "%%eval mux4(2, 7, True)\n",
    "%%eval mux4(2, 7, False)"
   ]
  },
  {
   "cell_type": "markdown",
   "metadata": {},
   "source": [
    "**Case expression:** The case expression allows selecting among multiple values depending on a value. For example, the function below uses a case expression to compute whether its 4-bit input is prime. The case expression enumerates all 4-bit values that are prime; if so, the case expression evaluates to `True`. If none of the values match, the case expression evaluates to the `default` value, `False`:"
   ]
  },
  {
   "cell_type": "code",
   "execution_count": null,
   "metadata": {},
   "outputs": [],
   "source": [
    "function Bool isPrime(Bit#(4) x) = case (x)\n",
    "    1 : True;\n",
    "    2 : True;\n",
    "    3 : True;\n",
    "    5 : True;\n",
    "    7 : True;\n",
    "    11: True;\n",
    "    13: True;\n",
    "    default: False;\n",
    "endcase;\n",
    "%%eval isPrime(13)\n",
    "%%eval isPrime(10)"
   ]
  },
  {
   "cell_type": "markdown",
   "metadata": {},
   "source": [
    "The case expression must always evaluate to a value, so it can omit the default item only when it enumerates all possible values of the expression being compared (e.g., of `x` in the above example).\n",
    "\n",
    "Case expressions synthesize to **N-to-1 muxes**. For example, the function above can be synthesized with a 16-to-1 1-bit mux, where x is used as the select input, inputs 1, 2, 3, 5, 7, 11, and 13 are tied to 1, and all other others are tied to 0. (In practice, synthesis tools will use Boolean simplification to simplify the implementation, but conceptually it is a mux).\n",
    "\n",
    "**No \"conditional execution\":** Many software programming languages provide conditional and case expressions or similar constructs, and their implementation typically uses *conditional execution*, i.e., evaluating only the expression in the path of interest.\n",
    "\n",
    "For example, consider the following conditional expression in C: ```r = c ? foo(x) : bar(y)``` (in Python this would be ```r = foo(x) if c else bar(y)```). When compiled to assembly, this code will evaluate ``c``, then either call ``foo(x)`` if ``x`` is ``True``, or call ``bar(y)`` if ``x`` is ``False``, and assign the result to variable ``r``. In other words, the code will call **either** ``foo(x)`` or ``bar(y)``, but not both. This avoids wasted work because only one result is needed, and ``foo`` and ``bar`` may be long functions.\n",
    "\n",
    "This is **not at all** how conditional expressions are synthesized in Minispec, because combinational logic does not allow for conditional execution. Remember: functions describe combinational circuits, functions are inlined when called, and conditional expressions translate to muxes. Thus, synthesizing ```r = foo(x) if c else bar(y)``` will (1) synthesize ``foo(x)``, i.e., creating an instance of the circuit implementing function ``foo`` with input ``x``; (2) synthesize ``bar(y)``, and (3) use a 2-to-1 mux to select between the outputs of ``foo(x)`` and ``bar(y)``. Note how the circuit will evaluate **both** ``foo(x)`` and ``bar(y)``.\n",
    "\n",
    "\"Conditional execution\" is a common source of confusion when students have a software background, so this bears repeating: **there is no conditional execution with combinational logic**. This is important because, when thinking about the area and time a cricuit will take, you must consider that **all** paths will be evaluated, not just one."
   ]
  },
  {
   "cell_type": "markdown",
   "metadata": {},
   "source": [
    "## 7. Automatic synthesis of functions into combinational circuits\n",
    "\n",
    "In Section 2 we saw how to synthesize functions manually, with pen and paper. But this gets tedious quickly, so we provide tools to automatically synthesize Minispec code into gate-level circuits.\n",
    "\n",
    "In Jupyter, functions can be synthesized using the ``%%synth`` magic. For example, let's synthesize the ``and4`` function from Section 2 and visualize the resulting circuit:"
   ]
  },
  {
   "cell_type": "code",
   "execution_count": null,
   "metadata": {},
   "outputs": [],
   "source": [
    "%%synth and4 -v"
   ]
  },
  {
   "cell_type": "markdown",
   "metadata": {},
   "source": [
    "The result of ``%%synth`` above has four parts:\n",
    "1. A *summary* of the characteristics of the synthesized circuit: number of gates, area, and *critical-path delay* (i.e., the longest propagation delay from any input to any output). For example, the ``and4`` circuit has 3 gates that take 2.39 square microns (um^2) and a critical-path delay of 23.53 picoseconds (ps).\n",
    "2. A *critical path report*, showing the input and output wires involved in the critical path and the delay accumilated through individual gates in the path between them.\n",
    "3. An *area report*, breaking down the area consumed by each type of gate.\n",
    "4. If the ``-v`` (view) flag is given, a drawing of the circuit.\n",
    "\n",
    "``%%synth`` performs **synthesis optimizations** to achieve a circuit implementation with low delay and area. This means that, in general, you will not see the same gates being used in the implementation as the ones the function specifies. For example, looking at the function code, you may have expected a circuit using 3 2-input AND gates; however, ``synth`` uses two 2-input NAND gates and one 2-input NOR gate. In general, you'll see inverting gates beign used more often, as they are more efficient in current fabrication technology (CMOS).\n",
    "\n",
    "``%%synth`` has more options (e.g., to control what library of gates to use, whether to optimize for delay or area, etc.). Run ``%%synth -h`` for a list of options. ``%%synth`` will be used in labs but we will not describe it further in this tutorial.\n",
    "\n",
    "You can try synthesizing a few more of our previous functions:"
   ]
  },
  {
   "cell_type": "code",
   "execution_count": null,
   "metadata": {},
   "outputs": [],
   "source": [
    "%%synth rca2 -v\n",
    "// The extended library has more gates\n",
    "%%synth rca2 -l extended -v"
   ]
  },
  {
   "cell_type": "code",
   "execution_count": null,
   "metadata": {},
   "outputs": [],
   "source": [
    "// By default synth seeks to minimize delay, then area.\n",
    "// If you give it a high delay target (1000 ps below), it will seek to minimize area.\n",
    "%%synth parity8 -l extended -d 1000 -v"
   ]
  },
  {
   "cell_type": "markdown",
   "metadata": {},
   "source": [
    "## 8. Parametric functions, Integers, and static elaboration\n",
    "\n",
    "Minispec provides *parametric types*, such as `Bit#(n)`,\n",
    "that take one or more *parameters*, such as n in this case. These parameters\n",
    "must be known at compile time, and when specified, yield a concrete type that can be implemented in hardware (such as `Bit#(4)`, a 4-bit value).\n",
    "\n",
    "Minispec also allows defining *parametric functions*.\n",
    "These enable writing generic circuit descriptions that are then concretized as needed.\n",
    "\n",
    "For example, so far we have implemented functions specialized to particular bit-widths, like `parity2`, `parity4`, and `parity8` for 2-, 4-, and 8-bit inputs, respectively. Instead, we can write a *single* `parity#(n)` function that computes thhe parity of an n-bit input.\n",
    "Then, users of the function will call it with particular values of n, instantiating parity circuits of different widths. Let's go ahead and do that:"
   ]
  },
  {
   "cell_type": "code",
   "execution_count": null,
   "metadata": {},
   "outputs": [],
   "source": [
    "function Bit#(1) parity#(Integer n)(Bit#(n) x) =\n",
    "    (n == 1)? x : x[n-1] ^ parity#(n-1)(x[n-2:0]);\n",
    "\n",
    "%%eval parity#(8)(8'b0100_0110)\n",
    "%%eval parity#(128)(-1)"
   ]
  },
  {
   "cell_type": "markdown",
   "metadata": {},
   "source": [
    "There is a lot going on here! First, the function name is followed by `#(Integer n)`, denoting that this function has an `Integer` parameter called `n`. `Integer` is a special type that is *evaluated at compile time*. `n` is used within the function, including to select bits, in a conditional expresion, etc. Second, the body of the function does one of two things: if `n` is 1, it returns `x`, which in this case is a `Bit#(1)` value; otherwise, it XORs the most-significant bit of `x` with the parity of its remaining bits, which it computes by calling `parity#(n-1)`.\n",
    "\n",
    "This example conspicously violates two of the rules we've established so far.\n",
    "First, we said no recursion (Section 3), but `parity#(n)` is calling `parity#(n-1)`!\n",
    "Second, we said no conditional execution (Section 6), but if `parity#(1)` instantiated both branches of the conditional, it would call `parity#(0)`, which would call `parity#(-1)`, and so on, so recursion would never end! \n",
    "\n",
    "The reason this code works is that **parameters are always evaluated a compile-time**: they are simply a facility to make the code more expressive, but no `Integer` variable will ever make it to hardware. The two restrictions above exist because we want functions to be implementable in combinational logic, but if we are doing this evaluation at compile-time, these restrictions are unnecessary, and so they are lifted.\n",
    "\n",
    "More concretely, given the `parity#(n)` code above, a call to `parity#(4)` will make the compiler produce the following code:"
   ]
  },
  {
   "cell_type": "code",
   "execution_count": null,
   "metadata": {},
   "outputs": [],
   "source": [
    "function Bit#(1) parity#(4)(Bit#(4) x) = x[3] ^ parity#(3)(x[2:0]);\n",
    "function Bit#(1) parity#(3)(Bit#(3) x) = x[2] ^ parity#(2)(x[1:0]);\n",
    "function Bit#(1) parity#(2)(Bit#(2) x) = x[1] ^ parity#(1)(x[0:0]);\n",
    "function Bit#(1) parity#(1)(Bit#(1) x) = x;\n",
    "\n",
    "%%eval parity#(4)(4'b1010)\n",
    "%%eval parity#(4)(4'b1011)"
   ]
  },
  {
   "cell_type": "markdown",
   "metadata": {},
   "source": [
    "This compile-time evaluation process is known as static elaboration. Note how the above code, after expanded, follows the rules we saw before: it is not recursive **on the arguments** (only on the parameter `n`), and it terminates because the conditional statement is gone (it was conditional on a parameter, so it was evaluated at compile-time).\n",
    "\n",
    "The rest of this section gives more detail on Integers and static elaboration semantics, \n",
    "\n",
    "**Integer type:** `Integer` represents an integer value (i.e., a negative or non-negative number) with an\n",
    "*unbounded number of bits*. `Integer` supports the same operators as `Bit#(n)` (including logical, arithmetic, and relational, bit-reductions, etc.). However, since `Integer` is signed, arithmetic and relational operators have *signed semantics*.\n",
    "\n",
    "`Integer` is the only type in Minispec that is not synthesizable to hardware. It is used exclusively at compile time: all `Integer` expressions must be evaluable by the compiler.\n",
    "\n",
    "The internal representation of `Integer` values is irrelevant: they have an unbounded number of bits, so you needn't worry about whether they use two's complement or some other representation.\n",
    "\n",
    "\n",
    "**Parameters** can be `Integer` values or other types. So far we have only seen `Integer` parameters (e.g., `Bit#(n)` and `parity#(n)`). As an example of a parametric type with a type parameter, `Vector#(n, T)` represents an n-element vector with elements of type `T`. For instance, the function below sums the elements of 4-element vector of 32-bit values:"
   ]
  },
  {
   "cell_type": "code",
   "execution_count": null,
   "metadata": {},
   "outputs": [],
   "source": [
    "function Bit#(32) sum(Vector#(4, Bit#(32)) elems) =\n",
    "    elems[0] + elems[1] + elems[2] + elems[3];\n",
    "\n",
    "%%synth sum"
   ]
  },
  {
   "cell_type": "markdown",
   "metadata": {},
   "source": [
    "**Parametric functions** are defined by specifying the parameters after the function name, enclosed in `#(...)`. Each parameter definition can be:\n",
    "* `Integer intParam` to denote an `Integer` parameter with name `intParam`, which must be lowercase.\n",
    "* `type TypeParam` to denote a type parameter with name `TypeParam`, which must be uppercase.\n",
    "* A specific Integer literal or type, which allows writing parametric definitions that are already specialized to particular parameter values (like the `parity#(4)`, `parity#(3)`, etc. code above).\n",
    "Integer and type parameter names can be used anywhere in the parametric definition, including in the return type of the function.\n",
    "\n",
    "*Parametric definitions can be specialized*. The code can specify both a general parametric definition with Integer and type parameters, and one or more specialized definitions with fixed Integers and types. On a match, a specialized definition takes precedence over the general one. \n",
    "\n",
    "For example, the code below implements an n-bit ripple-carry adder `rca#(n)` using a specilaized definition and a general one:"
   ]
  },
  {
   "cell_type": "code",
   "execution_count": null,
   "metadata": {},
   "outputs": [],
   "source": [
    "// base case (specialized)\n",
    "function Bit#(2) rca#(1)(Bit#(1) a, Bit#(1) b, Bit#(1) cin);\n",
    "    let cout = (a & b) | (a & cin) | (b & cin);\n",
    "    let sum = a ^ b ^ cin;\n",
    "    return {cout, sum};\n",
    "endfunction\n",
    "\n",
    "// general case (used when n != 1)\n",
    "function Bit#(n+1) rca#(Integer n)(Bit#(n) a, Bit#(n) b, Bit#(1) cin);\n",
    "    let lower = rca#(n-1)(a[n-2:0], b[n-2:0], cin);\n",
    "    let upper = rca#(1)(a[n-1], b[n-1], lower[n-1]);\n",
    "    return {upper, lower[n-2:0]};\n",
    "endfunction\n",
    "\n",
    "%%eval rca#(32)(10000, 99999, 1)"
   ]
  },
  {
   "cell_type": "markdown",
   "metadata": {},
   "source": [
    "**Static elaboration:** Parametrics require clear guarantees on what computations and simplifications the compiler performs at compile time. We refer to this process as static elaboration. Minispec guarantees the following static elaboration behavior:\n",
    "1. All `Integer` expressions and variables are elaborated, i.e., turned into concrete values at compile time. An `Integer` expression or variable that cannot be elaborated causes a compiler error.\n",
    "2. `Bool` expressions and variables are elaborated if they depend only on `Bool` constants and `Integer` values.\n",
    "3. All conditional expressions (ternary, case) and control statements (if-else, case, see Section 9) whose predicate is an elaborated `Bool` or `Integer` expression are elaborated to include only the branch that they execute, eliminating all others.\n",
    "4. Parametrics are instantiated and elaborated lazily, as the compiler finds code that uses them.\n",
    "\n",
    "The example below shows some errors that happen when one tries to assign values to `Integer` variables that are unknown at compile-time:"
   ]
  },
  {
   "cell_type": "code",
   "execution_count": null,
   "metadata": {},
   "outputs": [],
   "source": [
    "function Bool integerFail(Bit#(1) a, Bool b);\n",
    "    Integer i = a;\n",
    "    Integer j = (a == 0)? 0 : 1;\n",
    "    Integer k = b? 100 : 1000 + j;\n",
    "    return i == k;\n",
    "endfunction"
   ]
  },
  {
   "cell_type": "markdown",
   "metadata": {},
   "source": [
    "This concludes all you need to know on parametric functions. Further details are available in Section 6.3 and Section 10 of the Minispec reference.\n"
   ]
  },
  {
   "cell_type": "markdown",
   "metadata": {},
   "source": [
    "## 9. User-defined types\n",
    "\n",
    "typedef. synonym, struct, enum. syn/struct can be parametric.\n",
    "\n",
    "Returning multiple outputs --> structs\n",
    "\n",
    "Example: less-than comparator"
   ]
  },
  {
   "cell_type": "markdown",
   "metadata": {},
   "source": [
    "## 10. Higher-level programming constructs\n",
    "\n",
    "These are confusing! Non-trivial translation to synthesized circuits. Use with care.\n",
    "\n",
    "### if/else\n",
    "\n",
    "example.\n",
    "\n",
    "synthesis: a mux on every variable that is assigned to within the if/else branches!\n",
    "\n",
    "### case\n",
    "\n",
    "example.\n",
    "\n",
    "synthesis: n-to-1 mux.\n",
    "\n",
    "### for\n",
    "\n",
    "example. Not like a normal loop. Iteration variable MUST be an Integer. Trip count MUST be known at compile-time.\n",
    "\n",
    "synthesis: Unrolled at compile time. NOT A LOOP IN HW!\n",
    "\n",
    "This is the construct we see misused the most."
   ]
  },
  {
   "cell_type": "markdown",
   "metadata": {},
   "source": [
    "## 11. Advanced features\n",
    "\n",
    "Don't care values --- ?\n",
    "\n",
    "static_assert\n",
    "\n"
   ]
  },
  {
   "cell_type": "code",
   "execution_count": null,
   "metadata": {},
   "outputs": [],
   "source": []
  }
 ],
 "metadata": {
  "kernelspec": {
   "display_name": "Minispec",
   "language": "",
   "name": "minispec"
  },
  "language_info": {
   "file_extension": ".ms",
   "mimetype": "text/x-minispec",
   "name": "minispec"
  }
 },
 "nbformat": 4,
 "nbformat_minor": 2
}
