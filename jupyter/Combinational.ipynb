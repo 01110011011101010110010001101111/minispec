{
 "cells": [
  {
   "cell_type": "code",
   "execution_count": null,
   "metadata": {},
   "outputs": [],
   "source": [
    "function Bit#(1) parity#(Integer i)(Bit#(i) in);\n",
    "    return (i == 1)? in : in[i-1] ^ parity#(i-1)(in[i-2:0]);\n",
    "endfunction\n",
    "\n",
    "function Bit#(1) parity8(Bit#(8) in) = parity#(8)(in);\n",
    "\n",
    "%%eval parity8(8'b00110001)"
   ]
  },
  {
   "cell_type": "markdown",
   "metadata": {},
   "source": [
    "# Combinational Logic in Minispec\n",
    "\n",
    "Combinational circuits, also known as Boolean circuits, are ... . In lecture, we have already seen how to specify the behavior of combinational circuits (using Boolean formulas or truth table) and how to implement these circuits using gates.\n",
    "\n",
    "In this tutorial, you will learn how to write combinational circuits in Minispec. We will cover the following topics:\n",
    "1. The Bool type and Boolean operations\n",
    "2. Functions\n",
    "3. The Bit#(n) type and Bit operations\n",
    "4. Parametric functions and Integers\n",
    "5. Type inference\n",
    "5. User-defined types\n",
    "6. Higher-level constructs: if, case, and for statements\n",
    "7. Advanced features: ?, assertions\n",
    "\n",
    "These topics build on each other and present increasingly advanced language features. In particular, topics 1 and 2 suffice to build any combinational circuit---every other feature is a convenience.\n",
    "\n",
    "Each topic uses interactive examples. You can execute each code snippet (cell) by pressing Shift+Enter. The executable examples consist of Boolean functions and one of two special commands, called *magics*: %%eval to evaluate a function and %%synth to synthesize it into a circuit. (These magics are not part of the Minispec language, but sepearate programs that we have integrated in Jupyter.)"
   ]
  },
  {
   "cell_type": "markdown",
   "metadata": {},
   "source": [
    "## 1. The Bool type and Boolean operations\n",
    "\n",
    "Values of type `Bool` can take one of two values, `True` or `False`. `Bool` values support the three basic Boolean algebra operations:\n",
    "- `!`: Boolean NOT\n",
    "- `&&`: Boolean AND\n",
    "- `||`: Boolean OR\n",
    "\n",
    "For example,\n",
    "```minispec\n",
    "Bool a = True;\n",
    "Bool b = False;\n",
    "\n",
    "Bool x = !a;      // False since a == True\n",
    "Bool y = a && b;  // False since b == False\n",
    "Bool z = a || b;  // True since a == True\n",
    "```\n",
    "\n",
    "`Bool` values also support equality operations:\n",
    "- `==`: Equals\n",
    "- `!=`: Not equals\n",
    "\n",
    "For example,\n",
    "```minispec\n",
    "Bool a = True;\n",
    "Bool b = False;\n",
    "\n",
    "Bool e = a == b;  // False\n",
    "Bool n = a != b;  // True\n",
    "```\n",
    "\n",
    "Note that, for Boolean values, `==` is equivalent to Boolean XOR (and `!=` is Boolean XNOR)."
   ]
  },
  {
   "cell_type": "markdown",
   "metadata": {},
   "source": [
    "## 2. Functions\n",
    "\n",
    "In Minispec, functions specify combinational circuits. The function inputs are the inputs to the combinational circuit, the function outputs are the outputs from the combinational circuit, and the body of the function describes the combinational logic that computes the outputs from the inputs.\n",
    "\n",
    "Examples below; TODO: elaborate."
   ]
  },
  {
   "cell_type": "code",
   "execution_count": null,
   "metadata": {},
   "outputs": [],
   "source": [
    "function Bool and2(Bool a, Bool b);\n",
    "    return a && b;\n",
    "endfunction"
   ]
  },
  {
   "cell_type": "markdown",
   "metadata": {},
   "source": [
    "The syntax is a follows: function/endfunction, return type, name (lowercase), args, return keyword.\n",
    "\n",
    "You can evaluate a function with the `%%eval` magic. For example,"
   ]
  },
  {
   "cell_type": "code",
   "execution_count": null,
   "metadata": {},
   "outputs": [],
   "source": [
    "%%eval and2(False, True)\n",
    "%%eval and2(True, True)"
   ]
  },
  {
   "cell_type": "markdown",
   "metadata": {},
   "source": [
    "More complex functions can use multiple statements. For example, the `majority` function below returns `True` iff at least two out of its three inputs are `True`. This function uses three assignment statements before its return statement."
   ]
  },
  {
   "cell_type": "code",
   "execution_count": null,
   "metadata": {},
   "outputs": [],
   "source": [
    "function Bool majority(Bool a, Bool b, Bool c);\n",
    "    Bool ab = a && b;\n",
    "    Bool ac = a && c;\n",
    "    Bool bc = b && c;\n",
    "    return ab || ac || bc;\n",
    "endfunction\n",
    "\n",
    "%%eval majority(True, False, False)\n",
    "%%eval majority(False, True, True)"
   ]
  },
  {
   "cell_type": "markdown",
   "metadata": {},
   "source": [
    "Functions can invoke other functions:"
   ]
  },
  {
   "cell_type": "code",
   "execution_count": null,
   "metadata": {},
   "outputs": [],
   "source": [
    "function Bool and3(Bool a, Bool b, Bool c);\n",
    "    Bool ab = and2(a, b);\n",
    "    return and2(ab, c);\n",
    "endfunction\n",
    "\n",
    "%%eval and3(True, True, True)"
   ]
  },
  {
   "cell_type": "markdown",
   "metadata": {},
   "source": [
    "Because functions are often short, Minispec has a **shorthand syntax** to declare single-statement functions more succinctly. For example, the `and3` implementation below is equivalent to the one above. Instead of a `return` statement followed by `endfunction`, the expression that computes the output value follows the `=` sign."
   ]
  },
  {
   "cell_type": "code",
   "execution_count": null,
   "metadata": {},
   "outputs": [],
   "source": [
    "function Bool and3(Bool a, Bool b, Bool c) = a && b && c;"
   ]
  },
  {
   "cell_type": "markdown",
   "metadata": {},
   "source": [
    "## 3. The Bit#(n) type and operations\n",
    "\n",
    "While `Bool` is technically the only type we need to write combinational circuits, working with many single-bit values gets tedious quickly. For example, if we wanted to code a function that operated on a 32-bit number, we'd need to pass 32 `Bool` arguments!\n",
    "\n",
    "To address this problem, Minispec provides more complex types that encapsulate a collection of bits. The most basic of these is `Bit#(n)`, which encodes an n-bit value. Most other types (all except `Integer`, as we will see later) are represented in hardware as a collection of Bits, and can be \n",
    "\n",
    "TODO: Briefly summarize literals, slicing, concat, bitwise operations, ternary, other ops (that you won't use...). Refer to syntax guide.\n",
    "\n",
    "Then, 2 examples:\n",
    "- Parity\n",
    "- Ripple-carry adder\n"
   ]
  },
  {
   "cell_type": "markdown",
   "metadata": {},
   "source": [
    "## 4. Type inference\n",
    "\n",
    "let var declarations\n",
    "\n",
    "Unsized literals---filling\n",
    "\n",
    "Some built-in functions: truncate, zero/signExtend\n",
    "\n",
    "All conversions are explicit; \n",
    "\n",
    "If in doubt, use explicit types!\n",
    "\n",
    "Rewrite a couple of the previous examples using these."
   ]
  },
  {
   "cell_type": "markdown",
   "metadata": {},
   "source": [
    "## 5. Basic synthesis\n",
    "\n",
    "It's all gates and bits in the end. Synthesize and visualize majority, 8-bit parity, 3-bit adder. For parity, note tree transformation.\n",
    "\n",
    "May be a good idea to show variable reassignment, dataflow graph, etc. THIS IS NOT A SEQUENTIAL PROGRAM."
   ]
  },
  {
   "cell_type": "markdown",
   "metadata": {},
   "source": [
    "## 6. Compile-time elaboration, Integers, and parametrics\n",
    "\n",
    "Staged compilation / metaprog: we want some part of the code to run only at compile time. In many languages --> compiler tries to pull computation to compile time. In HDLs, we MUST make a clear distinction as to what MUST get elaborated at compile-time.\n",
    "\n",
    "In Minispec -> Integers.\n",
    "\n",
    "Example with Integer elab/slicing.\n",
    "\n",
    "Example showing an elaboration error. Can't assign Bit#(n) to Integer!\n",
    "\n",
    "\n",
    "TODO: Section break? Parametrics\n",
    "\n",
    "#notation; Integer parameters (in passing: type parameters, we'll use later, see syntax guide)\n",
    "\n",
    "Parametric types --> Bit#(n).\n",
    "\n",
    "Parametric functions\n",
    "\n",
    "Recursive parity"
   ]
  },
  {
   "cell_type": "markdown",
   "metadata": {},
   "source": [
    "## 7. User-defined types\n",
    "\n",
    "typedef. synonym, struct, enum. syn/struct can be parametric.\n",
    "\n",
    "Returning multiple outputs --> structs\n",
    "\n",
    "Example: less-than comparator"
   ]
  },
  {
   "cell_type": "markdown",
   "metadata": {},
   "source": [
    "## 8. Higher-level programming constructs\n",
    "\n",
    "These are confusing! Non-trivial translation to synthesized circuits. Use with care.\n",
    "\n",
    "### if/else\n",
    "\n",
    "example.\n",
    "\n",
    "synthesis: a mux on every variable that is assigned to within the if/else branches!\n",
    "\n",
    "### case\n",
    "\n",
    "example.\n",
    "\n",
    "synthesis: n-to-1 mux.\n",
    "\n",
    "### for\n",
    "\n",
    "example. Not like a normal loop. Iteration variable MUST be an Integer. Trip count MUST be known at compile-time.\n",
    "\n",
    "synthesis: Unrolled at compile time. NOT A LOOP IN HW!\n",
    "\n",
    "This is the construct we see misused the most."
   ]
  },
  {
   "cell_type": "markdown",
   "metadata": {},
   "source": [
    "## 9. Advanced features\n",
    "\n",
    "Don't care values --- ?\n",
    "\n",
    "static_assert\n",
    "\n"
   ]
  },
  {
   "cell_type": "code",
   "execution_count": null,
   "metadata": {},
   "outputs": [],
   "source": [
    "%%synth parity8 -l extended -v -d 1000"
   ]
  },
  {
   "cell_type": "code",
   "execution_count": null,
   "metadata": {},
   "outputs": [],
   "source": [
    "function Bit#(1) parityTree#(Integer i)(Bit#(i) in);\n",
    "    return (i == 1)? in :\n",
    "                    (parityTree#(i/2)(in[i/2-1:0]) ^ parityTree#(i-i/2)(in[i-1:i/2]));\n",
    "endfunction\n",
    "\n",
    "function Bit#(1) parity8Tree(Bit#(8) in) = parityTree#(8)(in);\n",
    "\n",
    "%%eval parity8Tree('b00110001)"
   ]
  },
  {
   "cell_type": "code",
   "execution_count": null,
   "metadata": {},
   "outputs": [],
   "source": [
    "%%synth parity8Tree -l extended -v"
   ]
  },
  {
   "cell_type": "code",
   "execution_count": null,
   "metadata": {},
   "outputs": [],
   "source": [
    "%%synth parity8Tree -l extended -v"
   ]
  },
  {
   "cell_type": "code",
   "execution_count": null,
   "metadata": {},
   "outputs": [],
   "source": [
    "%%synth parity32Tree -l extended -d 1 -v"
   ]
  },
  {
   "cell_type": "code",
   "execution_count": null,
   "metadata": {},
   "outputs": [],
   "source": [
    "function Bit#(1) par2(Bit#(2) a) = a[0] ^ a[1];\n",
    "function Bit#(1) par4(Bit#(4) a) = par2(a[1:0]) ^ par2(a[3:2]);\n",
    "function Bit#(1) par8(Bit#(8) a) = par4(a[3:0]) ^ par4(a[7:4]);\n",
    "%%synth par8 -l extended -v"
   ]
  },
  {
   "cell_type": "code",
   "execution_count": null,
   "metadata": {},
   "outputs": [],
   "source": [
    "function Bit#(1) par16(Bit#(16) a) = par8(a[7:0]) ^ par8(a[15:8]);\n",
    "%%synth par16 -l extended -v"
   ]
  },
  {
   "cell_type": "code",
   "execution_count": null,
   "metadata": {},
   "outputs": [],
   "source": [
    "function Bit#(1) par32(Bit#(32) a) = par16(a[15:0]) ^ par16(a[31:16]);\n",
    "%%synth par32 -l extended -d 500 -v"
   ]
  },
  {
   "cell_type": "code",
   "execution_count": null,
   "metadata": {},
   "outputs": [],
   "source": [
    "function Bit#(w+1) ksaN#(Integer w)(Bit#(w) x, Bit#(w) y, Bit#(1) cin);\n",
    "    Bit#(w) g = x & y;\n",
    "    Bit#(w) p = x | y;\n",
    "    for (Integer s = 1; s < w; s = s * 2) begin\n",
    "        for (Integer i = w - 1; i >= s; i = i - 1) begin\n",
    "            g[i] = g[i] | (p[i] & g[i - s]);\n",
    "            p[i] = p[i] & p[i - s];\n",
    "        end\n",
    "    end\n",
    "    return  {0, x} ^ {0, y} ^ {(g | (p & signExtend(cin))), cin};\n",
    "endfunction\n",
    "\n",
    "// Description: N-bit fast adder with a carry-in (optional design exercise)\n",
    "// Arguments: a, b, c\n",
    "// Return: sum of a and b, with c_in\n",
    "function Bit#(32) fastAdd32(Bit#(32) a, Bit#(32) b, Bit#(1) c_in);\n",
    "    return ksaN#(32)(a, b, c_in)[31:0];\n",
    "endfunction\n",
    "\n",
    "%%synth fastAdd32 -l multisize -v"
   ]
  },
  {
   "cell_type": "code",
   "execution_count": null,
   "metadata": {},
   "outputs": [],
   "source": [
    "//function Bit#(2) fa(Bit#(1) a, Bit#(1) b, Bit#(1) cin) = {a & b | (a ^ b) & cin, a ^ b ^ cin};\n",
    "//function Bit#(n+1) rca#(Integer n)(Bit#(n) a, Bit#(n) b, Bit#(1) cin) = (n == 1)?\n",
    "//    fa(a, b, cin) : {fa(a[n-1], b[n-1], rca#(n-1)(a[n-2:0], b[n-2:0], cin)[n-1]),\n",
    "//                     rca#(n-1)(a[n-2:0], b[n-2:0], cin)[n-2:0]};\n",
    "function Bit#(2) rca#(1)(Bit#(1) a, Bit#(1) b, Bit#(1) cin) = {a & b | (a ^ b) & cin, a ^ b ^ cin};\n",
    "function Bit#(n+1) rca#(Integer n)(Bit#(n) a, Bit#(n) b, Bit#(1) cin);\n",
    "    let psum = rca#(n-1)(a[n-2:0], b[n-2:0], cin);\n",
    "    return {rca#(1)(a[n-1], b[n-1], psum[n-1]), psum[n-2:0]};\n",
    "endfunction\n",
    "\n",
    "function Bit#(33) rca32(Bit#(32) a, Bit#(32) b, Bit#(1) cin) = rca#(32)(a, b, cin);\n",
    "%%eval 1129 + 16"
   ]
  },
  {
   "cell_type": "code",
   "execution_count": null,
   "metadata": {},
   "outputs": [],
   "source": [
    "%%eval $fgets()"
   ]
  },
  {
   "cell_type": "code",
   "execution_count": null,
   "metadata": {},
   "outputs": [],
   "source": []
  }
 ],
 "metadata": {
  "kernelspec": {
   "display_name": "Minispec",
   "language": "",
   "name": "jupyter"
  },
  "language_info": {
   "file_extension": ".ms",
   "mimetype": "text/x-minispec",
   "name": "minispec"
  }
 },
 "nbformat": 4,
 "nbformat_minor": 2
}
